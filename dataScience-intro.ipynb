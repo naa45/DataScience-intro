{
 "cells": [
  {
   "cell_type": "code",
   "execution_count": 31,
   "id": "509986cd",
   "metadata": {},
   "outputs": [
    {
     "name": "stdout",
     "output_type": "stream",
     "text": [
      "6\n"
     ]
    }
   ],
   "source": [
    "import math\n",
    "# with the given lists of height for the various basketball players\n",
    "# calculate and output how manyplayers are in the range of one standard deviatin from the mean\n",
    "\n",
    "players = [180,172,178,185,190,195,192,200,210,190]\n",
    "\n",
    "mean = sum(players)/len(players)\n",
    "varlst = [(mean-x)**2 for x in players]\n",
    "var = sum(varlst)/len(players)\n",
    "std = math.sqrt(var)\n",
    "\n",
    "# players in the range of one std from the mean\n",
    "x = mean-std\n",
    "y = mean+std\n",
    "count = 0\n",
    "for i in players:\n",
    "    if i>x and i<y:\n",
    "        count+=1\n",
    "print(count)"
   ]
  },
  {
   "cell_type": "code",
   "execution_count": 35,
   "id": "a438aeb9",
   "metadata": {},
   "outputs": [
    {
     "name": "stdout",
     "output_type": "stream",
     "text": [
      "[1 3 4]\n"
     ]
    }
   ],
   "source": [
    "import numpy as np\n",
    "\n",
    "x = np.array([2,1,3])\n",
    "x = np.append(x,4)\n",
    "\n",
    "# deletes the element in the first index\n",
    "x = np.delete(x,0)\n",
    "\n",
    "# sorts the elements in the array\n",
    "x= np.sort(x)\n",
    "print(x)\n",
    "\n",
    "# creates an arange that contains a range of evenly spaced intervals\n",
    "y = np.arange(2,10,3)\n",
    "print(y)"
   ]
  },
  {
   "cell_type": "code",
   "execution_count": 37,
   "id": "4b70c9cc",
   "metadata": {},
   "outputs": [
    {
     "name": "stdout",
     "output_type": "stream",
     "text": [
      "62.5\n"
     ]
    }
   ],
   "source": [
    "# Given the array that represents house prices, calculate and output the percentage\n",
    "# of houses that are within one standard deviation from the mean.\n",
    "\n",
    "data = np.array([150000,125000,320000,540000,200000,120000,160000,230000,280000,290000,300000,500000,420000,100000,150000,280000])\n",
    "\n",
    "a = np.mean(data)\n",
    "b = np.std(data)\n",
    "\n",
    "# players in the range of one std from the mean\n",
    "x = a-b\n",
    "y = a+b\n",
    "count = 0\n",
    "for i in data:\n",
    "    if i>x and i<y:\n",
    "        count+=1\n",
    "        \n",
    "# percentage of houses that are within one std from the mean\n",
    "percentage = count/np.size(data)\n",
    "result = percentage*100\n",
    "print(result)"
   ]
  },
  {
   "cell_type": "code",
   "execution_count": 3,
   "id": "7b4f0971",
   "metadata": {},
   "outputs": [
    {
     "name": "stdout",
     "output_type": "stream",
     "text": [
      "ages        24\n",
      "heights    176\n",
      "Name: Joel, dtype: int64\n"
     ]
    }
   ],
   "source": [
    "import pandas as pd\n",
    "data = {\n",
    "    'ages':[14,18,24,42],\n",
    "    'heights': [165,180,176,184]\n",
    "}\n",
    "# df = pd.DataFrame(data)\n",
    "\n",
    "#  specifying a custom index\n",
    "df = pd.DataFrame(data, index=['Sandra','Dave','Joel','Rita'])\n",
    "# print(df)\n",
    "\n",
    "# accessing the row using its index\n",
    "# print(df.loc[\"Sandra\"])\n",
    "\n",
    "# selecting a single column\n",
    "# print(df['ages'])\n",
    "\n",
    "# selecting multiple columns\n",
    "# print(df[['ages','heights']])\n",
    "\n",
    "# selecting data based on it's numeric index\n",
    "print(df.iloc[2])\n",
    "# # first 3 rows\n",
    "# print(df.iloc[:3])\n",
    "# rows 2 to 3\n",
    "# print(df.iloc[1:3])"
   ]
  },
  {
   "cell_type": "code",
   "execution_count": 61,
   "id": "58742dee",
   "metadata": {},
   "outputs": [
    {
     "name": "stdout",
     "output_type": "stream",
     "text": [
      "      ages  heights\n",
      "Rita    42      184\n"
     ]
    }
   ],
   "source": [
    "# selects all rows where age is greater than 18 and height is greater than 180\n",
    "condition = df[(df['ages'] >18) & (df['heights'] > 180)] \n",
    "print(condition)"
   ]
  },
  {
   "cell_type": "code",
   "execution_count": null,
   "id": "ba21761b",
   "metadata": {},
   "outputs": [],
   "source": [
    "df = pd.read_csv(\"https://www.sololearn.com/uploads/ca-covid.csv\")\n",
    "# print(df.head())\n",
    "\n",
    "# getting essential info about the dataset\n",
    "# df.info()\n",
    "\n",
    "# setting date as index\n",
    "# df.set_index('date',inplace=True)\n",
    "# print(df.head)\n",
    "\n",
    "# removed state column from dataFrame\n",
    "df.drop('state',axis=1,inplace = True)\n",
    "# df.info()\n",
    "\n",
    "# adding a month column based on the date column, detecting the months on the datetime object and returns them\n",
    "df['month'] = pd.to_datetime(df['date'],format= \"%d.%m.%y\").dt.month_name()\n",
    "\n",
    "# adding the weekday names for each row as new column\n",
    "df['day'] = pd.to_datetime(df['date'],format = \"%d.%m.%y\").dt.day_name()\n",
    "df.set_index('date',inplace=True)\n",
    "# print(df.head())\n",
    "\n",
    "# returns the summary statistics for all numeric colums\n",
    "# print(df.describe())\n",
    "\n",
    "# summary stat of a single column\n",
    "# print(df['cases'].describe())\n",
    "\n",
    "# returns how many values each month has or appears in the dataset, also called the frequency of the values\n",
    "# print(df['month'].value_counts())\n",
    "\n",
    "# determine the number of total infections in each month\n",
    "# print(df.groupby('month')['cases'].sum())\n",
    "\n",
    "# calculate the number of total cases in the entire year\n",
    "# print(df['cases'].sum())\n",
    "\n",
    "print(df.groupby('day')['cases'].sum())\n"
   ]
  },
  {
   "cell_type": "code",
   "execution_count": 5,
   "id": "0839cf9c",
   "metadata": {},
   "outputs": [
    {
     "name": "stdout",
     "output_type": "stream",
     "text": [
      "          cases  deaths  month     ratio\n",
      "date                                    \n",
      "10.03.20      7       1  March  0.142857\n"
     ]
    }
   ],
   "source": [
    "import pandas as pd\n",
    "\n",
    "# You are working with the COVID dataset for califonia,which includes the number of cases and deaths for each day\n",
    "# of 2020. Find the day when the deaths/cases ratio was largest\n",
    "\n",
    "\n",
    "df = pd.read_csv(\"https://www.sololearn.com/uploads/ca-covid.csv\")\n",
    "\n",
    "df.drop('state', axis=1, inplace=True)\n",
    "\n",
    "df['month'] = pd.to_datetime(df['date'],format = \"%d.%m.%y\").dt.month_name()\n",
    "df.set_index('date', inplace=True)\n",
    "\n",
    "df['ratio'] = df['deaths']/df['cases']\n",
    "\n",
    "# returns entire row with max value ie. the row with the largest ratio\n",
    "print(df[df['ratio'] ==df['ratio'].max()])\n",
    "\n",
    "\n"
   ]
  },
  {
   "cell_type": "code",
   "execution_count": 2,
   "id": "06616d7c",
   "metadata": {},
   "outputs": [
    {
     "data": {
      "image/png": "[encoded data removed]",
      "text/plain": [
       "<Figure size 432x288 with 1 Axes>"
      ]
     },
     "metadata": {
      "needs_background": "light"
     },
     "output_type": "display_data"
    }
   ],
   "source": [
    "import matplotlib.pyplot as plt\n",
    "import pandas as pd\n",
    "\n",
    "s = pd.Series([18,42,9,32,81,64,3])\n",
    "s.plot(kind = 'bar')\n",
    "plt.savefig('plot.png')"
   ]
  },
  {
   "cell_type": "code",
   "execution_count": null,
   "id": "8cd04f7c",
   "metadata": {},
   "outputs": [],
   "source": []
  },
  {
   "cell_type": "code",
   "execution_count": null,
   "id": "48608608",
   "metadata": {},
   "outputs": [],
   "source": []
  }
 ],
 "metadata": {
  "kernelspec": {
   "display_name": "Python 3 (ipykernel)",
   "language": "python",
   "name": "python3"
  },
  "language_info": {
   "codemirror_mode": {
    "name": "ipython",
    "version": 3
   },
   "file_extension": ".py",
   "mimetype": "text/x-python",
   "name": "python",
   "nbconvert_exporter": "python",
   "pygments_lexer": "ipython3",
   "version": "3.9.7"
  }
 },
 "nbformat": 4,
 "nbformat_minor": 5
}
